{
  "nbformat": 4,
  "nbformat_minor": 0,
  "metadata": {
    "colab": {
      "provenance": []
    },
    "kernelspec": {
      "name": "python3",
      "display_name": "Python 3"
    },
    "language_info": {
      "name": "python"
    }
  },
  "cells": [
    {
      "cell_type": "markdown",
      "source": [
        "### Initialization"
      ],
      "metadata": {
        "id": "UzkaOQ5XwsWk"
      }
    },
    {
      "cell_type": "code",
      "execution_count": null,
      "metadata": {
        "colab": {
          "base_uri": "https://localhost:8080/"
        },
        "id": "NrO-KjM_b0SO",
        "outputId": "122e6172-7e54-43be-f87b-49188efa5f31"
      },
      "outputs": [
        {
          "output_type": "stream",
          "name": "stdout",
          "text": [
            "Collecting urizen\n",
            "  Downloading urizen-0.2.5-py3-none-any.whl.metadata (1.4 kB)\n",
            "Requirement already satisfied: Pillow in /usr/local/lib/python3.10/dist-packages (from urizen) (9.4.0)\n",
            "Requirement already satisfied: pygame>=2.0.0 in /usr/local/lib/python3.10/dist-packages (from urizen) (2.6.0)\n",
            "Collecting pygame-gui (from urizen)\n",
            "  Downloading pygame_gui-0.6.12-py3-none-any.whl.metadata (1.2 kB)\n",
            "Collecting pygame-ce>=2.4.0 (from pygame-gui->urizen)\n",
            "  Downloading pygame_ce-2.5.1-cp310-cp310-manylinux_2_17_x86_64.manylinux2014_x86_64.whl.metadata (11 kB)\n",
            "Collecting python-i18n>=0.3.9 (from pygame-gui->urizen)\n",
            "  Downloading python_i18n-0.3.9-py3-none-any.whl.metadata (5.5 kB)\n",
            "Downloading urizen-0.2.5-py3-none-any.whl (171 kB)\n",
            "\u001b[2K   \u001b[90m━━━━━━━━━━━━━━━━━━━━━━━━━━━━━━━━━━━━━━━━\u001b[0m \u001b[32m171.4/171.4 kB\u001b[0m \u001b[31m2.9 MB/s\u001b[0m eta \u001b[36m0:00:00\u001b[0m\n",
            "\u001b[?25hDownloading pygame_gui-0.6.12-py3-none-any.whl (30.9 MB)\n",
            "\u001b[2K   \u001b[90m━━━━━━━━━━━━━━━━━━━━━━━━━━━━━━━━━━━━━━━━\u001b[0m \u001b[32m30.9/30.9 MB\u001b[0m \u001b[31m22.5 MB/s\u001b[0m eta \u001b[36m0:00:00\u001b[0m\n",
            "\u001b[?25hDownloading pygame_ce-2.5.1-cp310-cp310-manylinux_2_17_x86_64.manylinux2014_x86_64.whl (13.5 MB)\n",
            "\u001b[2K   \u001b[90m━━━━━━━━━━━━━━━━━━━━━━━━━━━━━━━━━━━━━━━━\u001b[0m \u001b[32m13.5/13.5 MB\u001b[0m \u001b[31m25.0 MB/s\u001b[0m eta \u001b[36m0:00:00\u001b[0m\n",
            "\u001b[?25hDownloading python_i18n-0.3.9-py3-none-any.whl (13 kB)\n",
            "Installing collected packages: python-i18n, pygame-ce, pygame-gui, urizen\n",
            "Successfully installed pygame-ce-2.5.1 pygame-gui-0.6.12 python-i18n-0.3.9 urizen-0.2.5\n"
          ]
        }
      ],
      "source": [
        "!pip install urizen"
      ]
    },
    {
      "cell_type": "code",
      "source": [
        "import urizen as uz"
      ],
      "metadata": {
        "id": "MwlQSe183ts6"
      },
      "execution_count": null,
      "outputs": []
    },
    {
      "cell_type": "code",
      "source": [
        "# M = uz.dungeon_bsp_tree(50, 50)\n",
        "M = uz.dungeon_drunkard(5, 5)\n",
        "\n",
        "# And visualize it using Pillow with Urizen tileset\n",
        "uz.vg_tiled(M, scale=1)"
      ],
      "metadata": {
        "colab": {
          "base_uri": "https://localhost:8080/",
          "height": 54
        },
        "id": "xGCvYZngb5f5",
        "outputId": "68b8c3da-5945-40a0-cdb7-a9a9030c3089"
      },
      "execution_count": null,
      "outputs": [
        {
          "output_type": "execute_result",
          "data": {
            "text/plain": [
              "<PIL.Image.Image image mode=RGB size=60x60>"
            ],
            "image/png": "[encoded data removed]"
          },
          "metadata": {},
          "execution_count": 3
        }
      ]
    },
    {
      "cell_type": "code",
      "source": [
        "# Initializing tiles for player and enemy\n",
        "\n",
        "Map = uz.building_ruined_house(w=9, h=9)\n",
        "player = Map.cells[0][0]\n",
        "enemy = Map.cells[0][0]"
      ],
      "metadata": {
        "id": "I4yZAzVzvmNg"
      },
      "execution_count": null,
      "outputs": []
    },
    {
      "cell_type": "markdown",
      "source": [
        "### Some experimentation with urizen"
      ],
      "metadata": {
        "id": "8jt3QiQ0wwDP"
      }
    },
    {
      "cell_type": "code",
      "source": [
        "from PIL import Image\n",
        "Map = uz.building_ruined_house(w=9, h=9)\n",
        "a = uz.vg_tiled(Map, scale=3, show=False, filepath=None)\n",
        "a.save(fp='name.png', format=None)"
      ],
      "metadata": {
        "id": "_L0WCwbThgd8"
      },
      "execution_count": null,
      "outputs": []
    },
    {
      "cell_type": "code",
      "source": [
        "# vars(Map)\n",
        "# vars(Map.cells[0][0].metatile)\n",
        "Map.cells[0][0].metatile.get_tiles()\n",
        "# vars(Map.cells[0][0].metatile.get_tiles()[0])"
      ],
      "metadata": {
        "colab": {
          "base_uri": "https://localhost:8080/"
        },
        "id": "K6lkwZHWmR0T",
        "outputId": "57753029-e985-4760-933e-caef02e66c89"
      },
      "execution_count": null,
      "outputs": [
        {
          "output_type": "execute_result",
          "data": {
            "text/plain": [
              "[<urizen.core.tile.Tile at 0x7d825816a4a0>]"
            ]
          },
          "metadata": {},
          "execution_count": 5
        }
      ]
    },
    {
      "cell_type": "code",
      "source": [
        "uz.core.entity_collection.C.wall_dungeon_smooth"
      ],
      "metadata": {
        "colab": {
          "base_uri": "https://localhost:8080/",
          "height": 187
        },
        "id": "RZi34unU4HEI",
        "outputId": "3282ef9f-0095-427e-977e-003f8d3badf2"
      },
      "execution_count": null,
      "outputs": [
        {
          "output_type": "execute_result",
          "data": {
            "text/plain": [
              "urizen.core.entity_collection.wall_dungeon_smooth"
            ],
            "text/html": [
              "<div style=\"max-width:800px; border: 1px solid var(--colab-border-color);\"><style>\n",
              "      pre.function-repr-contents {\n",
              "        overflow-x: auto;\n",
              "        padding: 8px 12px;\n",
              "        max-height: 500px;\n",
              "      }\n",
              "\n",
              "      pre.function-repr-contents.function-repr-contents-collapsed {\n",
              "        cursor: pointer;\n",
              "        max-height: 100px;\n",
              "      }\n",
              "    </style>\n",
              "    <pre style=\"white-space: initial; background:\n",
              "         var(--colab-secondary-surface-color); padding: 8px 12px;\n",
              "         border-bottom: 1px solid var(--colab-border-color);\"><b>urizen.core.entity_collection.wall_dungeon_smooth</b><br/>def __init__(**kwargs)</pre><pre class=\"function-repr-contents function-repr-contents-collapsed\" style=\"\"><a class=\"filepath\" style=\"display:none\" href=\"#\">/usr/local/lib/python3.10/dist-packages/urizen/core/entity_collection.py</a>Cell class\n",
              "\n",
              "Attributes:\n",
              "x -- X coordinate\n",
              "y -- Y coordinate\n",
              "z -- Z coordinate\n",
              "height -- Cell height\n",
              "terrain -- Cell terrain\n",
              "cell_type -- Cell type\n",
              "features -- List of features of the cell\n",
              "things -- List of things inside the cell\n",
              "actors -- List of actors inside the cell\n",
              "symbol -- Symbol to print in terminal visualizers\n",
              "bg_color -- Background color in terminal visualizers\n",
              "fg_color -- Foreground color in terminal visualizers\n",
              "pixel_color -- Pixel color for pixel visualizers\n",
              "metatile -- Metatile object for use in graphical visualizers\n",
              "passable -- Is the cell passable\n",
              "tags -- List of cell tags</pre>\n",
              "      <script>\n",
              "      if (google.colab.kernel.accessAllowed && google.colab.files && google.colab.files.view) {\n",
              "        for (const element of document.querySelectorAll('.filepath')) {\n",
              "          element.style.display = 'block'\n",
              "          element.onclick = (event) => {\n",
              "            event.preventDefault();\n",
              "            event.stopPropagation();\n",
              "            google.colab.files.view(element.textContent, None);\n",
              "          };\n",
              "        }\n",
              "      }\n",
              "      for (const element of document.querySelectorAll('.function-repr-contents')) {\n",
              "        element.onclick = (event) => {\n",
              "          event.preventDefault();\n",
              "          event.stopPropagation();\n",
              "          element.classList.toggle('function-repr-contents-collapsed');\n",
              "        };\n",
              "      }\n",
              "      </script>\n",
              "      </div>"
            ]
          },
          "metadata": {},
          "execution_count": 6
        }
      ]
    },
    {
      "cell_type": "code",
      "source": [
        "TILESETS = [\n",
        "  # 'urizen-onebit-basic',\n",
        "  # 'urizen-onebit-fantasy-medieval',\n",
        "  'urizen-onebit-modern',\n",
        "  # 'urizen-onebit-fonts',\n",
        "]\n",
        "\n",
        "for tileset in TILESETS:\n",
        "  cells, things, actors = uz.core.entity_collection._get_tileset_tiles(tileset)\n",
        "  uz.core.entity_collection.cell_metatiles.update(cells)\n",
        "  uz.core.entity_collection.thing_metatiles.update(things)\n",
        "  uz.core.entity_collection.actor_metatiles.update(actors)\n",
        "\n",
        "C_attributes = {\n",
        "    name: type(\n",
        "        name,\n",
        "        (uz.core.entity_collection.Cell,),\n",
        "        {\n",
        "            #'pixel_color': _get_tileblock_color(cell_metatiles[name]),\n",
        "            'metatile': uz.core.entity_collection.cell_metatiles[name],\n",
        "            'tags': uz.core.entity_collection.cell_metatiles[name].tags,\n",
        "        }\n",
        "    ) for name in uz.core.entity_collection.cell_metatiles\n",
        "}\n",
        "\n",
        "uz.core.entity_collection.C = type('C', (object,), C_attributes)"
      ],
      "metadata": {
        "id": "WOXpcd6Wo1jM"
      },
      "execution_count": null,
      "outputs": []
    },
    {
      "cell_type": "code",
      "source": [
        "# [row][column]\n",
        "Map.cells[0][0].actors = [Map.cells[1][0]]"
      ],
      "metadata": {
        "id": "Z1Xq1l3dMSMV"
      },
      "execution_count": null,
      "outputs": []
    },
    {
      "cell_type": "code",
      "source": [
        "uz.vg_tiled(Map, scale=3, show=True, filepath=None)"
      ],
      "metadata": {
        "colab": {
          "base_uri": "https://localhost:8080/",
          "height": 341
        },
        "id": "XxqNTSoQNaBf",
        "outputId": "1dbe4605-a30c-4c57-bcc4-fb6dbfc9df1f"
      },
      "execution_count": null,
      "outputs": [
        {
          "output_type": "execute_result",
          "data": {
            "text/plain": [
              "<PIL.Image.Image image mode=RGB size=324x324>"
            ],
            "image/png": "[encoded data removed]"
          },
          "metadata": {},
          "execution_count": 30
        }
      ]
    },
    {
      "cell_type": "code",
      "source": [
        "import io\n",
        "import numpy as np\n",
        "import time\n",
        "import base64\n",
        "import matplotlib.pyplot as plt\n",
        "import IPython\n",
        "\n",
        "def fig2b64(f):\n",
        "  # data = io.BytesIO()\n",
        "  # f.savefig(data, format='png')\n",
        "  # data.seek(0)\n",
        "  # return base64.b64encode(data.read()).decode()\n",
        "  # buffered = io.BytesIO()\n",
        "  # a.save(buffered, format='png')\n",
        "  # return base64.b64encode(buffered.getvalue())\n",
        "  data = io.BytesIO()\n",
        "  a.save(data, format='png')\n",
        "  data.seek(0)\n",
        "  return base64.b64encode(data.read()).decode()\n",
        "\n",
        "f = plt.figure(num=1, clear=True)\n",
        "x = np.arange(10)\n",
        "y = np.arange(10)\n",
        "line = f.gca().plot(x, y)[0]\n",
        "\n",
        "data_str = fig2b64(f)\n",
        "\n",
        "IPython.display.display_html(f'<img class=\"myimage\" src=\"data:image/png;base64,{data_str}\"></img>', raw=True)\n",
        "\n",
        "for _ in range(10):\n",
        "  time.sleep(0.3)\n",
        "  np.random.shuffle(y)\n",
        "  line.set_data(x, y)\n",
        "  data_str = fig2b64(f)\n",
        "  IPython.display.display_javascript(f'''\n",
        "    document.querySelector('.myimage').src = 'data:image/png;base64,{data_str}';\n",
        "  ''', raw=True)\n",
        "\n",
        "# suppress final output\n",
        "plt.close(1)"
      ],
      "metadata": {
        "colab": {
          "base_uri": "https://localhost:8080/",
          "height": 345
        },
        "id": "_1UI6swehk8O",
        "outputId": "6ab0a6a7-1739-4817-c716-b44cd5746a23"
      },
      "execution_count": null,
      "outputs": [
        {
          "output_type": "display_data",
          "data": {
            "text/html": [
              "<img class=\"myimage\" src=\"data:image/png;base64,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\"></img>"
            ]
          },
          "metadata": {}
        },
        {
          "output_type": "display_data",
          "data": {
            "application/javascript": [
              "\n",
              "    document.querySelector('.myimage').src = 'data:image/png;base64,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';\n",
              "  "
            ]
          },
          "metadata": {}
        },
        {
          "output_type": "display_data",
          "data": {
            "application/javascript": [
              "\n",
              "    document.querySelector('.myimage').src = 'data:image/png;base64,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';\n",
              "  "
            ]
          },
          "metadata": {}
        },
        {
          "output_type": "display_data",
          "data": {
            "application/javascript": [
              "\n",
              "    document.querySelector('.myimage').src = 'data:image/png;base64,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';\n",
              "  "
            ]
          },
          "metadata": {}
        },
        {
          "output_type": "display_data",
          "data": {
            "application/javascript": [
              "\n",
              "    document.querySelector('.myimage').src = 'data:image/png;base64,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';\n",
              "  "
            ]
          },
          "metadata": {}
        },
        {
          "output_type": "display_data",
          "data": {
            "application/javascript": [
              "\n",
              "    document.querySelector('.myimage').src = 'data:image/png;base64,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';\n",
              "  "
            ]
          },
          "metadata": {}
        },
        {
          "output_type": "display_data",
          "data": {
            "application/javascript": [
              "\n",
              "    document.querySelector('.myimage').src = 'data:image/png;base64,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';\n",
              "  "
            ]
          },
          "metadata": {}
        },
        {
          "output_type": "display_data",
          "data": {
            "application/javascript": [
              "\n",
              "    document.querySelector('.myimage').src = 'data:image/png;base64,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';\n",
              "  "
            ]
          },
          "metadata": {}
        },
        {
          "output_type": "display_data",
          "data": {
            "application/javascript": [
              "\n",
              "    document.querySelector('.myimage').src = 'data:image/png;base64,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';\n",
              "  "
            ]
          },
          "metadata": {}
        },
        {
          "output_type": "display_data",
          "data": {
            "application/javascript": [
              "\n",
              "    document.querySelector('.myimage').src = 'data:image/png;base64,iVBORw0KGgoAAAANSUhEUgAAAUQAAAFECAIAAADQiNCRAAANIUlEQVR4nO3dPY4kSRkG4BmEg4s4xB4ACZc1uAocYd119wjLZQYXiQPsIfAxwUBEj8ic6PjLyOy3nscqdVfVN5ldn+KdqMjIT58AAIDFPt/9D9jnxx9/3PaGqbWY1/Kn7PoTlCf/avSfBDyLZoYQvz7+6Lvf/f9PfvnnVeU31LouhVYehNUqwj4bO2tt+HsZmSGEZoYQJ7PZx8hRLM8eG2pdNzd7fOexWi3vc2+tIuyzsbPW2AR1y6vEbEijmSHEyWx2yRWV7HFUntwVS3bWWmXVxHJX4n1IrdTPRsbn0MgMITQzhMhfm71zNnvsV10zlvfWYtjYn6nlv1diNqTRzBDiZDabupb10quS6kNqcYWuCN3ywMgMITQzhHibzd75DfjOWjtns7vmiscW695SK/Wzccvn8Lr/HxmZIYRmhhC1nUYq2WPVJWM7a62yc9b3abVSPxs7a1337YORGUJoZghRuwTyqOUCsa4Zwp21Jq1KvC3v89haqZ+NjM+hkRlCaGYI8Razx9LI2IbDO2sVXctcxx501Zr8F+6slfrZCPscGpkhhGaGEPk7jRQb0nV8LeaJ2cA7NDMAAACcO5nNXj6ZaXYUiuv6ywQYhNDMEOItZl83+ldWI0wuc+2illo31trQX0ZmCKGZIcRszD6+quUnxc7N+tRS68Za132nI2ZDGs0MIQbvAtmVriuz2SXDtGybVoztn6aWWk+otYrZbIilmSFE39rsrpnqrudANrPZQCvNDCHeZrOX7+dmpzi4jtlsiKWZIUTf2uyxwFy58nHDt+1qqfWEWmazgVaaGUIMrs1u0bXTyNjdrrvSkVpqPaHWKmazIZZmhhB9MbslOXetFRlLNcfnTN5ZWy21ttWa5C6QkE8zQ4iTmN1yW+exV5UHY8lnbHNjtdR6Qq2iq1O6HhiZIYRmhhC1nUaWPwDEbOAdmhkAAADO9e2bPcZsNhRdK6+63tAEGITQzBDiZN/sVbp2Gimuu4hsZ62dUs9hWK0N/WVkhhCaGUL07Zt9VNlppOWdd26S9rQN2VZJPYdhtcYmqFteJWZDGs0MIQb3ze5K15XMUDJMy7Zpxdj+aTtr7ZR6DlNrrWI2G2JpZgjRtza7a6a66zkhfv7fg7/c+a/ggcbaqmVaW8yGNJoZQpyszV6Vil96Zz95m/d0RWgb+sEL0cwQom9t9uROCMXOb9u3frP/87d/tTpvp57D1FrX/a9TzIY0mhlCDK7NbtG108jY3a670tHOWn0q4bz4dkpPPYepta77tsjIDCE0M4Toi9ktyblr1m4s1RyfM3ln7WW1ShhuSc5z6bpIO4fptSZZNAL5NDOEOInZLatAx15VHowln7HNjXfWejO5RGQuXVee8/xzmFqr6OoUa7PhFWlmCFHbaWT5A0DMBt6hmSHESczmUi3fCMAAIzOE0MwQorZoZBXpEYrr+svIDCE0M4Q42Td7laetHpldbv1UO49LrWEb+svIDCE0M4TYuqHf0zz/RupjUreeTq01RsyGWJoZQty8b/ZOJS+1bNFWdMWtlgOcXJt9fM6G41JrYa1VxGyIpZkhRN9dIMecvHPovcg3/D/isV8NULehv4zMEEIzQ4i7Z7Oz8rYMzDZmsyGWZoYQd89mH63O27fcoW9DidSFyqm1zGYDrTQzhLh7NrvL3N3JWzJVZWnuYy+F23lcas3XWsVsNsTSzBBifcxuStclDLck57l0XYwlqONzJjPV8tvT7DwuteZrTXIXSMinmSFE7fY01z14M7lEZC5dV56zfCPlrl1EWp6887jUmq9VXNdWRmYIoZkhxMntaXak6y53XB352CUik3Yel1pf29BfRmYIoZkhxOf3n8IH8cMffzPwqp/+9q/l/xJuYWSGEJoZQpzE7JbFw10T1NftscCnr9L1WGCefPmYL1++/PfB999/v61oPCMzhNDMEOJk0cgqLatHli+BrgirtSoel5dX3rArFZcnF+VVj03XOz8b1zEyQwjNDCEG983umtauPGfnJmlhtY5LRCZns1ve55iTK6G68qqnedpmfWOMzBBCM0OIm/fNLhmmZdu0Ymz/tLBax1nosbXZxzes6JqXrmTyp+XtnZ+N6xiZIYRmhhBNs9nHX3VtJ2Jt9hWOazwmL4FsWYXSkpwrWbopZpdt0u/YYeZC1x+XkRlCaGYIUZvN7orQO3b248yqSyDHdOXtvmltebuTkRlCaGYIcTKbvTwVV6583PBte2qtYjInF10pvWvKum/1SOWmn6tz6da/1/XHZWSGEJoZQtTuAjmpa6eRsbtdd6WjsFq3LBqpqCTnHWuzKyG2+Haa3fnZ6NNzXEZmCKGZIcT6SyC7ZsXHUs3xOZN31v7QtW5ZNNK1ErvrVW9huCVhzqXrYsff6/rjMjJDCM0MIZoWjTzkruthG1+vqvWQRSMtO/u1vE+fjStMih2fjaHjMjJDCM0MIWp3gXxIuqbRhputP3ZHPj4ZmSGGZgYAAIBztdnsVcxmQ3Fdf5kAgxCaGUIM3my9RddOI8XWG+rt3Jn5slqp5/ADLY9vsaG/jMwQQjNDiNmYXblBZMs737NJ2tFHztup53DncW2otaG/jMwQQjNDiMEN/bpG/8psdskwLdumFbfcBeaxUs/hzuN62jkc6y8jM4TQzBCib21210x113OeojIlu3zGe2etnVKPa5Hr+svIDCE0M4R4m81evv/e43b2G8t4z3/VTqnHdb0N/WVkhhCaGUL03Wy9Kyq0XPm4dcXC8TZ816W+62ulnsOdx3XLObyuv4zMEEIzQ4j1N1svunYaGbvb9WA6qmTF5cH7+lqp53Dncd1zDueI2RBLM0OIvpjdkpy71oqMpZrjcy7MOTvXOQzVSj2HO4/rIedwsr+MzBBCM0OI2qKRrsDc8qryYCz5rN/c+PERuiL1HO48rlvO4XX9ZWSGEJoZQtR2Gln+ALiuv4zMEEIzAwAAwLnBfbO7JqhfeTZ78oy98qlLtfxvajYb0mhmCHGyb/YqLatH1i8V/radtSZzctfCm9RzWPHvf/z8rV99/v3IYvENx7Whv4zMEEIzQ4i32ezrplu7ImKxPOdsqHU80lWXuVVKhJ3DomTpkpwr6fro+KpKAr/ls7GKmA1pNDOEuHnf7JJhWrZNK8b2T9tZq2J53Ao7h5PpuuV9jnn7IZ+NLmazIZZmhhBNMXtskrZrxnss7I3ZWevoui1ZMs7hMQNPzmZXfnJ072eji5gNsTQzhKjF7Ml1Dstj5Ie26v8jr+MYqlvy9m//9NO7L88gZkMszQwhTtZmL099leXEG+YDb/lmv2VNddcC7Nc5h5WlHZOz2cd33nlc1mYDrTQzhKjdBXJSS25vyTmrLk/bUGvsGsauie74c9gSj8d+1XIJ5IZzuIrZbIilmSHE+ksgu2bFx1LN8TmTd9ZeVaslVLfoep+wc9ii6/LGFg85rhaV/jIyQwjNDCGaFo0sfzDmBTeIXu4DncPJ5Lz8fYqx49rQVkZmCKGZIUTtLpAPSddhnKgXJ2YD79DMAAAAcO5kNhu4TuU7i7HvNcxmQxrNDCEuvAtkiw+0VFgttWYsXxFk0QjE0swQ4ubZ7J2bpKml1o21xiaoW14lZkMazQwhRmezy31C5jZvKBmmZdu0Ymz/NLXUekKtVcxmQyzNDCE6Z7OPd+GLun81XKVlSfbxJy3T2mI2pNHMEOKr2exFE9RAi64IbUM/eCGaGUKczWZX8vaiKL7z23a11HpCreu2SRezIY1mhhCda7Nb0nVPFG/JOasuT1NLrSfUWp6uxWxIo5khxLoN/YYmusdSzfE5LTlHLbWeUGuSRSOQTzNDiHUb+l2/tDtsI2W1XqrWdfdYF7MhjWaGEO4CCVuJ2cA7NDMAAACcO5nNvu6u0GO/Grt9XtevxjykVvH3P383U+IPf/1l5uXczgQYhNDMEOLtEsjrkuF1W5m9cq2ipOvJnNzyPs9fAr3MZdcaXHdcRmYIoZkhxNts9lhEPL5q7CctJVpeNVmr633urbUqXR9V3nnVpnYtdtaqWZ23rzsuIzOE0MwQYnBDv65keN1k7/JaO4/raeewRcmBLdvcFWP73e2stdN1x2VkhhCaGUL0rc0em7/tetVk1Fz1q7Hj2lmrMuc89quu57yi6++OOsnIDCE0M4Q4WZu9ar50LB53PWfswaSH1KqoxGPJ+dxYTn5Gui6MzBBCM0OIvrXZYzFy51qIybniVce1odZxzrnlJ8eXF5VX7VyJcfOqj64p656YveG4jMwQQjNDiHU3Wz9oydL3zvqG1Tpm6eXT2i1ZcdUlfjtrvalE6NWXQC4/LiMzhNDMEKIvZncl56el0Mn3eX6tlgnqyq9agvdYMjw+pyUD76w1aCh4X3dcRmYIoZkhxEnMHltyPLZiuetVYw+6ah09v1YxNnc9ma4rzxnbIHpnrZrVy603HJeRGUJoZghR22nkusSr1nytykrsMWPz2zyHkRlCaGYI8R/DmDzWJsLiAwAAAABJRU5ErkJggg==';\n",
              "  "
            ]
          },
          "metadata": {}
        },
        {
          "output_type": "display_data",
          "data": {
            "application/javascript": [
              "\n",
              "    document.querySelector('.myimage').src = 'data:image/png;base64,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';\n",
              "  "
            ]
          },
          "metadata": {}
        }
      ]
    },
    {
      "cell_type": "code",
      "source": [
        "# Neural network\n",
        "# Predict the level you will go to with current equipment\n",
        "# Advise a player with next steps\n",
        "# Complete it by itself, like mario, no death"
      ],
      "metadata": {
        "id": "h2o8tqk-OBjU"
      },
      "execution_count": null,
      "outputs": []
    },
    {
      "cell_type": "code",
      "source": [
        "# player = Map.cells[0][0]\n",
        "# enemy = Map.cells[0][0]\n",
        "\n",
        "# p = player_start_coords(M)\n",
        "# e = enemy_start_coords(M)\n",
        "# M.cells[p[0]][p[1]].actors = [player]\n",
        "# M.cells[e[0]][e[1]].actors = [enemy]\n",
        "# uz.vg_tiled(M, scale=1)"
      ],
      "metadata": {
        "id": "fueUvJJiBFzG"
      },
      "execution_count": null,
      "outputs": []
    },
    {
      "cell_type": "markdown",
      "source": [
        "### The game itself"
      ],
      "metadata": {
        "id": "YxlrV6B8w_MA"
      }
    },
    {
      "cell_type": "code",
      "source": [
        "import io\n",
        "import numpy as np\n",
        "import time\n",
        "import base64\n",
        "import matplotlib.pyplot as plt\n",
        "import IPython\n",
        "\n",
        "class Painter:\n",
        "  def _fig2b64(self, img):\n",
        "    data = io.BytesIO()\n",
        "    img.save(data, format='png')\n",
        "    data.seek(0)\n",
        "    return base64.b64encode(data.read()).decode()\n",
        "\n",
        "  def draw_init(self, img):\n",
        "    data_str = self._fig2b64(img)\n",
        "    IPython.display.display_html(f'<img class=\"myimage\" src=\"data:image/png;base64,{data_str}\"></img>', raw=True)\n",
        "\n",
        "  def draw_step(self, img):\n",
        "    data_str = self._fig2b64(img)\n",
        "    IPython.display.display_javascript(f'''\n",
        "        document.querySelector('.myimage').src = 'data:image/png;base64,{data_str}';\n",
        "    ''', raw=True)"
      ],
      "metadata": {
        "id": "16ePASibMcL_"
      },
      "execution_count": null,
      "outputs": []
    },
    {
      "cell_type": "code",
      "source": [
        "from copy import copy, deepcopy\n",
        "\n",
        "class Game:\n",
        "  def __init__(self, map):\n",
        "    self.map = map\n",
        "    self.p = self._player_start_coords(map)\n",
        "    self.e = self._enemy_start_coords(map)\n",
        "    self._convert_to_array()\n",
        "    self.n_steps = 0\n",
        "    self.action_space = np.arange(4)\n",
        "\n",
        "  def _convert_to_array(self):\n",
        "    self.arr = []\n",
        "    for y in range(len(self.map.cells)):\n",
        "      self.arr.append([])\n",
        "      for x in range(len(self.map.cells[y])):\n",
        "        self.arr[y].append(1 if 'wall' in self.map.cells[y][x].metatile.tags else 0)\n",
        "\n",
        "  def _place_on_map(self):\n",
        "    new_arr = deepcopy(self.arr)\n",
        "    new_arr[self.p[0]][self.p[1]] = 500\n",
        "    new_arr[self.e[0]][self.e[1]] = 999\n",
        "    return np.array(new_arr, dtype='float32')\n",
        "\n",
        "  def reset(self):\n",
        "    self.p = self._player_start_coords(self.map)\n",
        "    self.e = self._enemy_start_coords(self.map)\n",
        "    self._convert_to_array()\n",
        "    self.n_steps = 0\n",
        "    return self._place_on_map()\n",
        "\n",
        "  def _player_start_coords(self, m):\n",
        "    for y in range(len(m.cells) - 1, -1, -1):\n",
        "      for x in range(len(m.cells[y])):\n",
        "        if 'floor' in m.cells[y][x].metatile.tags:\n",
        "          return [y, x]\n",
        "\n",
        "  def _enemy_start_coords(self, m):\n",
        "    for y in range(len(m.cells)):\n",
        "      for x in range(len(m.cells[y]) - 1, -1, -1):\n",
        "        if 'floor' in m.cells[y][x].metatile.tags:\n",
        "          return [y, x]\n",
        "\n",
        "  def _manh_dist(self, p1, p2):\n",
        "    return abs(p1[0] - p2[0]) + abs(p1[1] - p2[1])\n",
        "\n",
        "  def step(self, move):\n",
        "    # move:\n",
        "    # 0 - up\n",
        "    # 1 - down\n",
        "    # 2 - left\n",
        "    # 3 - right\n",
        "\n",
        "    reward = 0\n",
        "    done = False\n",
        "\n",
        "    prev = self.p.copy()\n",
        "\n",
        "    if move == 0:\n",
        "      if self.arr[self.p[0] - 1][self.p[1]] == 0:\n",
        "        self.p[0] -= 1\n",
        "    elif move == 1:\n",
        "      if self.arr[self.p[0] + 1][self.p[1]] == 0:\n",
        "        self.p[0] += 1\n",
        "    elif move == 2:\n",
        "      if self.arr[self.p[0]][self.p[1] - 1] == 0:\n",
        "        self.p[1] -= 1\n",
        "    elif move == 3:\n",
        "      if self.arr[self.p[0]][self.p[1] + 1] == 0:\n",
        "        self.p[1] += 1\n",
        "\n",
        "    if self.p[0] == self.e[0] and self.p[1] == self.e[1]:\n",
        "      reward = 1000\n",
        "      done = True\n",
        "    else:\n",
        "      reward = self._manh_dist(prev, self.e) - self._manh_dist(self.p, self.e)\n",
        "\n",
        "    self.n_steps += 1\n",
        "\n",
        "    return self._place_on_map(), reward, done\n",
        "\n",
        "  def render_image(self):\n",
        "    self.map.cells[self.p[0]][self.p[1]].actors = [player]\n",
        "    self.map.cells[self.e[0]][self.e[1]].actors = [enemy]\n",
        "    render = uz.vg_tiled(self.map, scale=2, show=False, filepath=None)\n",
        "\n",
        "    self.map.cells[self.p[0]][self.p[1]].actors = []\n",
        "    self.map.cells[self.e[0]][self.e[1]].actors = []\n",
        "\n",
        "    return render\n",
        "\n",
        "  def close(self):\n",
        "    print('game ended')"
      ],
      "metadata": {
        "id": "C3nmB0ueKCSD"
      },
      "execution_count": null,
      "outputs": []
    },
    {
      "cell_type": "markdown",
      "source": [
        "### Try 1 - with no knowledge and ChatGPT"
      ],
      "metadata": {
        "id": "Px6KQaZKv_IQ"
      }
    },
    {
      "cell_type": "code",
      "source": [
        "import numpy as np\n",
        "import tensorflow as tf\n",
        "from tensorflow.keras.models import Sequential\n",
        "from tensorflow.keras.layers import Dense, Conv2D, Flatten\n",
        "from tensorflow.keras.optimizers import Adam\n",
        "import random\n",
        "from collections import deque\n",
        "\n",
        "# Hyperparameters\n",
        "state_size = (M.h, M.w)  # Example state size\n",
        "action_size = 4  # Up, Down, Left, Right\n",
        "batch_size = 32\n",
        "gamma = 0.99  # Discount factor\n",
        "epsilon = 1.0  # Exploration rate\n",
        "epsilon_min = 0.1\n",
        "epsilon_decay = 0.995\n",
        "# epsilon_decay = 1\n",
        "learning_rate = 0.01\n",
        "episodes = 2\n",
        "\n",
        "# Define the Q-network\n",
        "def build_model():\n",
        "    model = Sequential([\n",
        "        Conv2D(32, (3, 3), activation='relu', input_shape=state_size + (1,)),\n",
        "        Flatten(),\n",
        "        Dense(128, activation='relu'),\n",
        "        Dense(action_size, activation='linear')\n",
        "    ])\n",
        "    model.compile(optimizer=Adam(learning_rate=learning_rate), loss='mse')\n",
        "    return model\n",
        "\n",
        "# Define the replay buffer\n",
        "class ReplayBuffer:\n",
        "    def __init__(self, max_size):\n",
        "        self.buffer = deque(maxlen=max_size)\n",
        "\n",
        "    def add(self, experience):\n",
        "        self.buffer.append(experience)\n",
        "\n",
        "    def sample(self, batch_size):\n",
        "        return random.sample(self.buffer, batch_size)\n",
        "\n",
        "env = Game(M)\n",
        "\n",
        "painter = Painter()\n",
        "painter.draw_init(env.render_image())\n",
        "\n",
        "# Initialize replay buffer and Q-network\n",
        "replay_buffer = ReplayBuffer(max_size=2000)\n",
        "model = build_model()\n",
        "\n",
        "# Training loop\n",
        "for episode in range(episodes):\n",
        "    state = env.reset()\n",
        "    state = np.reshape(state, [1] + list(state_size))\n",
        "    done = False\n",
        "    total_reward = 0\n",
        "\n",
        "    while not done:\n",
        "        # Choose action\n",
        "        if np.random.rand() <= epsilon:\n",
        "            action = np.random.choice(action_size)\n",
        "        else:\n",
        "            # print('my chose')\n",
        "            q_values = model.predict(state, verbose=0)\n",
        "            action = np.argmax(q_values[0])\n",
        "\n",
        "        # Take action\n",
        "        next_state, reward, done, _ = env.step(action)\n",
        "        next_state = np.reshape(next_state, [1] + list(state_size))\n",
        "        # print(action)\n",
        "        # print(env.p[0], env.p[1])\n",
        "\n",
        "        painter.draw_step(env.render_image())\n",
        "\n",
        "        # Store experience\n",
        "        replay_buffer.add((state, action, reward, next_state, done))\n",
        "\n",
        "        # Update state\n",
        "        state = next_state\n",
        "        total_reward += reward\n",
        "\n",
        "        if len(replay_buffer.buffer) > batch_size:\n",
        "            minibatch = replay_buffer.sample(batch_size)\n",
        "            states = np.vstack([s[0] for s in minibatch])\n",
        "            actions = np.array([s[1] for s in minibatch])\n",
        "            rewards = np.array([s[2] for s in minibatch])\n",
        "            next_states = np.vstack([s[3] for s in minibatch])\n",
        "            dones = np.array([s[4] for s in minibatch])\n",
        "\n",
        "            # Predict Q-values for next states in batch\n",
        "            q_next = model.predict(next_states, verbose=0)\n",
        "            q_targets = rewards + gamma * np.amax(q_next, axis=1) * (1 - dones)\n",
        "\n",
        "            # Predict Q-values for current states in batch\n",
        "            q_values = model.predict(states, verbose=0)\n",
        "            for i in range(batch_size):\n",
        "                q_values[i][actions[i]] = q_targets[i]\n",
        "\n",
        "            # Train the model\n",
        "            model.fit(states, q_values, epochs=1, verbose=0)\n",
        "\n",
        "        # Decrease epsilon\n",
        "        if epsilon > epsilon_min:\n",
        "            epsilon *= epsilon_decay\n",
        "\n",
        "    print(f\"Episode {episode + 1}/{episodes}, Total Reward: {total_reward}\")\n",
        "\n",
        "env.close()\n"
      ],
      "metadata": {
        "id": "w7Dln_PxCiIc"
      },
      "execution_count": null,
      "outputs": []
    },
    {
      "cell_type": "code",
      "source": [
        "import numpy as np\n",
        "import tensorflow as tf\n",
        "from tensorflow.keras.models import Sequential\n",
        "from tensorflow.keras.layers import Dense, Conv2D, Flatten\n",
        "from tensorflow.keras.optimizers import Adam\n",
        "import random\n",
        "from collections import deque\n",
        "import keras\n",
        "from keras import ops\n",
        "\n",
        "# Hyperparameters\n",
        "state_size = (M.h, M.w)  # Example state size\n",
        "action_size = 4  # Up, Down, Left, Right\n",
        "# epsilon_decay = 1\n",
        "learning_rate = 0.01\n",
        "episodes = 10\n",
        "\n",
        "# Define the Q-network\n",
        "def build_model():\n",
        "    model = Sequential([\n",
        "        Conv2D(32, (3, 3), activation='relu', padding='same', input_shape=state_size + (1,)),\n",
        "        Conv2D(64, (3, 3), activation='relu', padding='same', input_shape=state_size + (1,)),\n",
        "        Conv2D(128, (3, 3), activation='relu', padding='same', input_shape=state_size + (1,)),\n",
        "        Flatten(),\n",
        "        Dense(128, activation='relu'),\n",
        "        Dense(32, activation='relu'),\n",
        "        Dense(action_size, activation='softmax')\n",
        "    ])\n",
        "    # model.compile(optimizer=Adam(learning_rate=learning_rate), loss='binary_crossentropy')\n",
        "    return model\n",
        "\n",
        "env = Game(M)\n",
        "\n",
        "painter = Painter()\n",
        "painter.draw_init(env.render_image())\n",
        "\n",
        "model = build_model()\n",
        "optimizer = keras.optimizers.Adam(learning_rate=0.01)\n",
        "\n",
        "# Training loop\n",
        "for episode in range(episodes):\n",
        "    state = env.reset()\n",
        "    state = np.reshape(state, [1] + list(state_size))\n",
        "    done = False\n",
        "\n",
        "    timestamp = 0\n",
        "    action_probs_history = []\n",
        "    rewards_history = []\n",
        "\n",
        "    with tf.GradientTape() as tape:\n",
        "\n",
        "        while not done and timestamp < 50:\n",
        "            # Choose action\n",
        "            action_probs = model(state)\n",
        "            # action = np.random.choice(action_size, p=np.squeeze(action_probs))\n",
        "            action = np.random.choice(action_size)\n",
        "            # print(pred)\n",
        "            action_probs_history.append(action_probs[0, action])\n",
        "\n",
        "            # Take action\n",
        "            next_state, reward, done, _ = env.step(action)\n",
        "            next_state = np.reshape(next_state, [1] + list(state_size))\n",
        "            reward = 1000 - reward\n",
        "            rewards_history.append(reward)\n",
        "            # print(f\"Action: {action}\")\n",
        "            # print(f\"Position: ({env.p[0]}, {env.p[1]})\")\n",
        "            # print(f\"Reward: {reward}\")\n",
        "\n",
        "            painter.draw_step(env.render_image())\n",
        "\n",
        "            timestamp += 1\n",
        "\n",
        "        # Apply gradients\n",
        "        loss_value = ops.dot(action_probs_history, tf.dtypes.cast(rewards_history, tf.float32))\n",
        "        # print(loss_value)\n",
        "        grads = tape.gradient(loss_value, model.trainable_variables)\n",
        "        # print(grads)\n",
        "        optimizer.apply_gradients(zip(grads, model.trainable_variables))\n",
        "\n",
        "\n",
        "    print(f\"Episode {episode + 1}/{episodes}\")\n",
        "\n",
        "env.close()\n"
      ],
      "metadata": {
        "id": "J5Tuqg7azehz"
      },
      "execution_count": null,
      "outputs": []
    },
    {
      "cell_type": "code",
      "source": [
        "import time\n",
        "\n",
        "painter = Painter()\n",
        "painter.draw_init(env.render_image())\n",
        "\n",
        "for episode in range(episodes):\n",
        "    state = env.reset()\n",
        "    state = np.reshape(state, [1] + list(state_size))\n",
        "    done = False\n",
        "\n",
        "    timestamp = 0\n",
        "    action_probs_history = []\n",
        "    rewards_history = []\n",
        "\n",
        "    while not done and timestamp < 50:\n",
        "        # Choose action\n",
        "        action_probs = model.predict(state, verbose=0)\n",
        "        action = np.random.choice(action_size, p=np.squeeze(action_probs))\n",
        "        # print(pred)\n",
        "        action_probs_history.append(action_probs[0, action])\n",
        "\n",
        "        # Take action\n",
        "        next_state, reward, done, _ = env.step(action)\n",
        "        next_state = np.reshape(next_state, [1] + list(state_size))\n",
        "        reward = reward\n",
        "        rewards_history.append(reward)\n",
        "        print(f\"Action: {action}\")\n",
        "        # print(f\"Position: ({env.p[0]}, {env.p[1]})\")\n",
        "        # print(f\"Reward: {reward}\")\n",
        "\n",
        "        painter.draw_step(env.render_image())\n",
        "\n",
        "        timestamp += 1\n",
        "\n",
        "        # time.sleep(0.5)\n",
        "\n",
        "    print(f\"Episode {episode + 1}/{episodes}\")"
      ],
      "metadata": {
        "id": "yMtEmec0uxv9"
      },
      "execution_count": null,
      "outputs": []
    },
    {
      "cell_type": "markdown",
      "source": [
        "### Try 2 - with some knowledge about Q-Learning (+Deep)"
      ],
      "metadata": {
        "id": "8wTFD8KXwPap"
      }
    },
    {
      "cell_type": "code",
      "source": [
        "import numpy as np\n",
        "import copy\n",
        "import torch\n",
        "from torch import nn\n",
        "import torch.nn.functional as F\n",
        "from tqdm import tqdm"
      ],
      "metadata": {
        "id": "Y0O7zJgkwn8x"
      },
      "execution_count": null,
      "outputs": []
    },
    {
      "cell_type": "code",
      "source": [
        "def move_one_hot(move):\n",
        "  arr = np.zeros(4, dtype='float32')\n",
        "  arr[move] = 1\n",
        "  return arr"
      ],
      "metadata": {
        "id": "F6xi-tGmK98b"
      },
      "execution_count": null,
      "outputs": []
    },
    {
      "cell_type": "code",
      "source": [
        "class SimpleConv(nn.Module):\n",
        "  def __init__(self):\n",
        "    super().__init__()\n",
        "    self.conv1 = nn.Conv2d(1, 16, 3, padding=1)\n",
        "    self.conv2 = nn.Conv2d(16, 32, 3, padding=1)\n",
        "    self.globalavgpool = nn.AvgPool2d(5)\n",
        "    self.fc1 = nn.Linear(32, 4)\n",
        "    self.fc2 = nn.Linear(8, 1)\n",
        "    # self.fc3 = nn.Linear(64, 1)\n",
        "\n",
        "  def forward(self, input):\n",
        "    # state is a 2d numpy array\n",
        "    # action is a number\n",
        "    state, action = input\n",
        "    state = torch.from_numpy(state[np.newaxis, :])\n",
        "    action = torch.from_numpy(move_one_hot(action))\n",
        "\n",
        "    x = state\n",
        "    x = F.relu(self.conv1(x))\n",
        "    x = F.relu(self.conv2(x))\n",
        "    x = F.relu(self.globalavgpool(x))\n",
        "    x = torch.flatten(x)\n",
        "    x = F.relu(self.fc1(x))\n",
        "    x = F.normalize(x, dim=0)\n",
        "    x = torch.concatenate((x, action))\n",
        "    # x = F.relu(self.fc2(x))\n",
        "    x = self.fc2(x)\n",
        "    return x\n",
        "\n",
        "def smoke_test():\n",
        "  torch.manual_seed(42)\n",
        "  a = np.float32(np.random.rand(5, 5))\n",
        "  model = SimpleConv()\n",
        "  print(model((a, 1)))\n",
        "  print(model((a, 2)))\n",
        "\n",
        "smoke_test()"
      ],
      "metadata": {
        "colab": {
          "base_uri": "https://localhost:8080/"
        },
        "id": "8yk0TGs8we2Y",
        "outputId": "7bca6399-1bd6-4839-d2b7-5aaf4dd5eb94"
      },
      "execution_count": null,
      "outputs": [
        {
          "output_type": "stream",
          "name": "stdout",
          "text": [
            "tensor([-0.0384], grad_fn=<ViewBackward0>)\n",
            "tensor([-0.7259], grad_fn=<ViewBackward0>)\n"
          ]
        }
      ]
    },
    {
      "cell_type": "code",
      "source": [
        "env = Game(M)"
      ],
      "metadata": {
        "id": "fKhd86HI9WfQ"
      },
      "execution_count": null,
      "outputs": []
    },
    {
      "cell_type": "code",
      "source": [
        "torch.manual_seed(42)\n",
        "num_iterations = 1000\n",
        "replay_buffer = []\n",
        "p_random_choice = 0.3 # probability to do exploration # AAAAAAAAAAAA\n",
        "model = SimpleConv()\n",
        "prev_model = deepcopy(model)\n",
        "optimizer = torch.optim.SGD(params = model.parameters(), lr = 0.001)\n",
        "num_minibatch = 50\n",
        "future_importance = 1 # TODO: NOT SURE WHAT VALUE THIS CONSTANT SHOULD HAVE\n",
        "model_update_steps = 50 # TODO: NOT SURE WHAT VALUE THIS CONSTANT SHOULD HAVE\n",
        "\n",
        "observation = env.reset()\n",
        "\n",
        "with torch.no_grad():\n",
        "  for iteration in tqdm(range(num_iterations)):\n",
        "    # Sampling phase\n",
        "    if np.random.rand() < p_random_choice:\n",
        "      action = np.random.choice(env.action_space)\n",
        "    else:\n",
        "      action = np.argmax([model((observation, action_variant)) for action_variant in env.action_space])\n",
        "      action = 3\n",
        "      # TODO: SOMEWHY FOR EACH ACTION PROVIDES FROM MODEL EQUAL RETURN\n",
        "      # TODO: AND AFTER SOME TIME ALL VALUES ARE DECAYING TO FREAKING ZERO\n",
        "      # TODO: MAYBE ITS BECAUSE  I USE ENCODING 0 1 2 3 FOR ACTIONS, WHICH IS BAD?\n",
        "      # TODO: MAYBE I SHOULD USE CLASSIFICATION TECHNIQUE OR ONE-HOT ENCODING?\n",
        "    prev_observation = observation\n",
        "    observation, reward, terminated = env.step(action)\n",
        "    if reward != 0:\n",
        "      replay_buffer.append((prev_observation, action, reward, observation, terminated))\n",
        "\n",
        "    # Training phase\n",
        "    # if len(replay_buffer) < num_minibatch:\n",
        "    #   continue\n",
        "\n",
        "    replay_indices = np.random.choice(len(replay_buffer), min(num_minibatch, len(replay_buffer)))\n",
        "    for i_replay in replay_indices:\n",
        "      sample = replay_buffer[i_replay]\n",
        "      if sample[4]: # If last transition\n",
        "        y_true = sample[2]\n",
        "      else:\n",
        "        # The error was here.\n",
        "        # I calculated q_value_true using initial observation from sample,\n",
        "        # but it should have been the next observation, so it will connect future rewards\n",
        "        # and proagate them back to this state from the very end.\n",
        "        q_value_true = max([prev_model((sample[3], action_variant)) for action_variant in env.action_space])\n",
        "        y_true = sample[2] + future_importance * q_value_true\n",
        "        # print([prev_model((sample[3], action_variant)) for action_variant in env.action_space])\n",
        "        # print(q_value_true)\n",
        "        # print(y_true)\n",
        "      # Gradient descent step\n",
        "      with torch.enable_grad():\n",
        "        # print('GRADIENT DESCENT STEP')\n",
        "        # print([model((sample[0], action_variant)) for action_variant in env.action_space])\n",
        "        # print(y_true)\n",
        "        # print(model((sample[0], sample[1])))\n",
        "        loss = (y_true - model((sample[0], sample[1]))) ** 2\n",
        "        optimizer.zero_grad()\n",
        "        loss.backward()\n",
        "        # print(model.fc2.weight.grad)\n",
        "        optimizer.step()\n",
        "        # print([model((sample[0], action_variant)) for action_variant in env.action_space])\n",
        "        # raise KeyboardInterrupt\n",
        "        # CONCLUSION, GRADINT DOESN'T STAY THE SAME, IT'S JUST SOMEWHY THE ACTION (0 1 2 3) IS NOT CONSIDERED IMPORTANT.\n",
        "        # AT LEAST, LOOKS LIKE THIS.\n",
        "        # NO. SOMEWHY. ITHAS GIVEN HIGH WEIGHT TO ACTION \"DOWN\". (1). 8.4726e+01\n",
        "        # Parameter containing:\n",
        "        # tensor([[-2.5610e-01,  4.4061e+02, -2.8168e-01, -1.7306e-01,  1.2421e+02,\n",
        "        # 8.4726e+01,  1.1643e+02,  1.1491e+02]], requires_grad=True)\n",
        "    if iteration % model_update_steps == model_update_steps - 1:\n",
        "      prev_model = deepcopy(model)\n",
        "\n",
        "    # Reset\n",
        "    if terminated:\n",
        "      observation = env.reset()\n",
        "\n",
        "print()\n",
        "env.close()"
      ],
      "metadata": {
        "colab": {
          "base_uri": "https://localhost:8080/"
        },
        "id": "rawEfzKywOoY",
        "outputId": "d307e547-2452-462e-d37b-6642553c1ef4"
      },
      "execution_count": null,
      "outputs": [
        {
          "output_type": "stream",
          "name": "stderr",
          "text": [
            "100%|██████████| 1000/1000 [02:19<00:00,  7.18it/s]"
          ]
        },
        {
          "output_type": "stream",
          "name": "stdout",
          "text": [
            "\n",
            "game ended\n"
          ]
        },
        {
          "output_type": "stream",
          "name": "stderr",
          "text": [
            "\n"
          ]
        }
      ]
    },
    {
      "cell_type": "code",
      "source": [
        "model.fc2.weight"
      ],
      "metadata": {
        "colab": {
          "base_uri": "https://localhost:8080/"
        },
        "id": "koR-GrsFwQNm",
        "outputId": "e1be9b73-b9f0-42e3-ad94-4933a6a446af"
      },
      "execution_count": null,
      "outputs": [
        {
          "output_type": "execute_result",
          "data": {
            "text/plain": [
              "Parameter containing:\n",
              "tensor([[-2.5610e-01,  4.4061e+02, -2.8168e-01, -1.7306e-01,  1.2421e+02,\n",
              "          8.4726e+01,  1.1643e+02,  1.1491e+02]], requires_grad=True)"
            ]
          },
          "metadata": {},
          "execution_count": 65
        }
      ]
    },
    {
      "cell_type": "code",
      "source": [
        "import time\n",
        "\n",
        "observation = env.reset()\n",
        "\n",
        "painter = Painter()\n",
        "painter.draw_init(env.render_image())\n",
        "\n",
        "n_fallen = 0\n",
        "with torch.no_grad():\n",
        "  for iteration in range(100):\n",
        "    action = np.argmax([model((observation, action_variant)) for action_variant in env.action_space])\n",
        "    # action = 3\n",
        "    observation, reward, terminated = env.step(action)\n",
        "    print(f'reward: {reward}')\n",
        "    painter.draw_step(env.render_image())\n",
        "    time.sleep(1)\n",
        "\n",
        "    if terminated:\n",
        "      observation = env.reset()\n",
        "\n",
        "env.close()"
      ],
      "metadata": {
        "colab": {
          "base_uri": "https://localhost:8080/",
          "height": 404
        },
        "id": "R4FD01df-Lnc",
        "outputId": "48146edf-7258-48b0-c4da-c839452afb05"
      },
      "execution_count": null,
      "outputs": [
        {
          "output_type": "display_data",
          "data": {
            "text/html": [
              "<img class=\"myimage\" src=\"data:image/png;base64,iVBORw0KGgoAAAANSUhEUgAAAHgAAAB4CAIAAAC2BqGFAAACpklEQVR4nO3dzU0zMRSFYYJogT2rVEIRVEALpARoIRVQRCrJCrFlRwUsLEVGkxk5/jlz7HmfDegTGObqYO7Md2Pu7oCR7MKb99fnwoUOxxPrLLgv/HwkotAiFFrkYfpPYVdKsbxzsU68DokWuZLooPz3LOvESLQIhRah0CKrFfpwPKX/+h5gHRItQqFFKLTIbB/dQpVNsNN1SLSINNG9392VrEOiRa4kuse8+K9DokUotAiFBpDBbq5j9/tduMLb5/nyvs91sUeLUGgRCi1iN9cR77B1MdexCaZzHR8v+8KvO/eTwVzH4Ci0CIUWkf4PS2z5jqtd79Ha3HWRaJHVEj2nXb+xLhIt0uVchxvmOozYzXV47rDLmOswYjrX0aL3YK5jEyi0CIUGkMFuriO+y9o/PWascP76ubzvc13s0SJ2T++CvCzHnxvn2gGJFrGb62iHuY5NMJ3raIe5jsGZdh2hZyjvo32QaJGbE13rTimFMputr4tEi5ju0cF0j55mPL4P9LwnDEi0SFKi9fMYc/3GXH7zcq28LhItkpRot7u7oCTLgfK6SLSI6VxHilv3aOY6NsG0j5571hHntHyPViLRADJUm+uoe85GkP6s49aPSVF3PoQ9WsS060h/1pH3MenfQ60ehkSLVJvr6PG1J3mY67BWea5j1Ne9TjHXYcq060iR8jzEB4kWqZxo/Q7rll/O61hZtUSv1W/wPBr/dNx1lM911MJ5HUaqJXqtfsNhj+a8DiOV5zqUvcdaezRzHdZMu45acx0+r4Uh0QAymJ7XMd467NEiFFqEQot0cF7HGOuQaJFuzuvofR0SLUKhRSi0yGqFPhxPVkf+t/5+SLQIhRah0CKb/jssnNcxILu/w6LEeR0D6uC8jjHWIdEiFFqEQov8Abr4m1dzp3INAAAAAElFTkSuQmCC\"></img>"
            ]
          },
          "metadata": {}
        },
        {
          "output_type": "stream",
          "name": "stdout",
          "text": [
            "reward: 0\n"
          ]
        },
        {
          "output_type": "display_data",
          "data": {
            "application/javascript": [
              "\n",
              "        document.querySelector('.myimage').src = 'data:image/png;base64,iVBORw0KGgoAAAANSUhEUgAAAHgAAAB4CAIAAAC2BqGFAAACo0lEQVR4nO3cwU3DMBjF8RaxAndOnYQhmIAV6AiwQidgiE7SE+LKjQk4RKoipY6c+PPLs/v/XahQ6zafHsZJvnq3A3qyH358vL0UDnQ8nRlnxkPh65GJQotQaJHH6a+GWSnH/MzFOONxSLTIjUQPyv/PMs4YiRah0CIUWmRxoY+nc/6/XYFWPg+JFqHQIhRaJLmOHrOaBHdtfh4SLZKV6KizqSgtfh4SLXIj0a1fVfAch0SLUGgRCg1gBbu+jv3fT+EI71+X62Of42KOFqHQIhRaxK6vYzzDxqKv4y6Y9nV8vh4K3zf1l0FfR+cotAiFFsm6w1LD/BlXvbVHbanjItEimyU6pd56Y1skWkSaaLd+jCj0dRiRJjrnbMpzhp1HX4cR076OGmsP+jruAoUWodAAVrDr6xifZR2en1aMcPn+vT72OS7maBG7q3eDdVkev3acawckWsSur6Me+jrugmlfRz30dXSOQotQaJHNCu22z0ZtJFqEQotQaBH6OkRItIhdX0evSLSIaV9HDfR13AXTOyzD/ZHye4Y+SDSAFcL6OmL32RiM72en7m1P5/Eaz6Gvoxmmq45UlqePc15b/pxyJFokrK8j9rsn81neFn0d1oL7OqK+e5IzR2+Lvg5TpquOnCyn1gxL8x41zjwSLRKc6Bprj+nj1HOi3qsE+3VsLCzRNb7rGnUdI0fttQ2JFjFddSivUZSv2dmvw0hYolvcZ2NQfv7Jfh1Ggvs6Wtzja+kcTV+HNdNVR871hxrPYR0NwIrpfh39jcMcLUKhRSi0SAP7dfQxDokWaWa/jtbHIdEiFFqEQossLnSv+2xEHVdqHBItQqFFKLRI1h2WLiflXdxx0ddhJCvRbvsURFGeJZJokQb26+hjHBItQqFFKLTIP1DSpzdPNMHLAAAAAElFTkSuQmCC';\n",
              "    "
            ]
          },
          "metadata": {}
        },
        {
          "output_type": "stream",
          "name": "stdout",
          "text": [
            "reward: 0\n"
          ]
        },
        {
          "output_type": "display_data",
          "data": {
            "application/javascript": [
              "\n",
              "        document.querySelector('.myimage').src = 'data:image/png;base64,iVBORw0KGgoAAAANSUhEUgAAAHgAAAB4CAIAAAC2BqGFAAACkElEQVR4nO3cwU3DQBBG4YBogTunVEIRVEALUAK0QAUUkUpyQly5UQEHo2hFcLSxZ1/G6/ddsJCzSUY/y8ae7GYj9eRq+PHyeD9zoOe3neOccD3z8apkoSEWGnJz/KthVqpxeuZynHIcEw35J9GD+f9nHadkoiEWGmKhIWcX+vltV/9vFxgnSuvXY6IhFhpioSGj6+hS1OSValLesK/HREOqEp3tU1kU8vWYaMg/ic6W3z7GMdEQCw2x0JImSNfXcfX9OXOEp/f94TjP+3KOhlhoiIWGpOvrKGfYWPZ1rELSvo7Xh+3M5x37y7Cvo3MWGmKhIVV3WEpMJ327tceYqPc1xkRDzk50a+3WG5dloiH2dUBMNCRdXwc5w9rX0aGkfR0t1h72dayChYZYaEkTpOvrKD+tbe9uJ4yw//g6HOd5X87RkHRX7wbTslw+tsx1BiYakq6vox37OlYhaV9HO/Z1dM5CQyw0xP06frlfRycsNMRCQ+zrgJhoSLq+DpJ9HR1K2tfRgn0dq5D0Dstwf2T+PcM8TLSkCcL6OmL32RiU97PH7m0fz+MtzrGvYzGSrjrGsnx8XPPY+efMZ6IhYX0dsd89OZ3ly7KvI7Xgvo6o757UzNGXZV9HUklXHTVZHlsznJv3qHFOM9GQ4ES3WHscH4+dE/VcLZhoSFiiW3zXNeo6Ro3WaxsTDUm66iCvUTBrdhMNCUt0zp2MajCfP000JLivY4l7fJ07R9vXkVrSVUfN9YcW5zhHS0ol6X4d/Y3jHA2x0BALDVnAfh19jGOiIYvZr2Pp45hoiIWGWGjIxQqdbb+O1kw0xEJDLDQEvcOyqkn5DxMNQROdbb8DkomGLGC/jj7GMdEQCw2x0JAfN/unNz9tJnUAAAAASUVORK5CYII=';\n",
              "    "
            ]
          },
          "metadata": {}
        },
        {
          "output_type": "stream",
          "name": "stdout",
          "text": [
            "reward: 0\n"
          ]
        },
        {
          "output_type": "display_data",
          "data": {
            "application/javascript": [
              "\n",
              "        document.querySelector('.myimage').src = 'data:image/png;base64,iVBORw0KGgoAAAANSUhEUgAAAHgAAAB4CAIAAAC2BqGFAAACu0lEQVR4nO2dwU0DMRREN4gWuHOiEoqgAlogJUALqYAiUgknxJUbFXCwhEzCWp+1PZn1vnchinZ/2NHw4/2ZmGkCGIld+vH8eF9ZaH84UqfAVeX5EAShRSC0iOvzp1JXilDuXNTJ6+BoEX84OlH/PkudHBwtAqFFILSIfwu9Pxzjb7uCOmsBR4tAaBEILWJ2HZ3TqpluqimfgKNFhBztdle2RnC0iD8c7ebfMergaBEILQKhAWABdrmO3ddHZYWn17efxz7XRY8WgdAiEFqEXa4j77BtIdexCUxzHS8Pd5WvO/eXQa5jcBBaBEKLCH3CktPqTqlMv7VHb+b0wdEi/u3o3vRbb1wWHC1CmusYlYg+OFqENNcRwbPDlonog6NFmOY6eqw9yHVsAoQWgdAAsAC7XEd+l3V3ezNN09v758njnPR8Tn6Mz3XRo0XYTe8Sc14+f1w+1wccLcIu15Eoe3kZ5Do2gWmuI9Kjlb9PfR0cLcJ01RHx8tzaw229kcDRIkxzHYlz/5aPqaH3deFoEaY9OhHpv/Ro+IVpriMyx6ifdSivC0eLsMt1KFFeF44WYZrr6AG5jk1guo6OzDGYdQDA8DTLdbTdZyMxd+9XZm4ectl8CD1ahOmqY5mX83MjmRBlPgRHi2iW6/D87olPPgRHi2ic63D73qtPPgRHizBddZTXA5Fzz+tcNh+Co0U0znW07bCtPOWQD8HRIpr16B7rjXiuo2aOET+mBhwtYvW5jvo5hiYfgqNFNMt16GcdPe73lsF+HUY0znUoZx395hhlyHVYs7JZR485BrMOALDFdL+O8erQo0UgtAiEFmG6X8d4dXC0CNP9Osarg6NFILQIhBZxMaH3h+OQ/zpg7rpwtAiEFoHQIqSfsAzZlCdyHVZIHe2230EryHUYsYL9Osaog6NFILQIhBbxDQWC7qKl4V5AAAAAAElFTkSuQmCC';\n",
              "    "
            ]
          },
          "metadata": {}
        },
        {
          "output_type": "stream",
          "name": "stdout",
          "text": [
            "reward: 0\n"
          ]
        },
        {
          "output_type": "display_data",
          "data": {
            "application/javascript": [
              "\n",
              "        document.querySelector('.myimage').src = 'data:image/png;base64,iVBORw0KGgoAAAANSUhEUgAAAHgAAAB4CAIAAAC2BqGFAAACoklEQVR4nO3cwU0DMRCFYYJogTunVEIRVEALpARoIRVQRCrJCXHlRgUcVoosNrvyrscvz97/u4AQmGT0GLybie/ugJ7shg/vr8+FCx2OJ9aZcV/488hEoUUotMjD+EtDV8ox37lYJ12HRItcSfSg/P8s66RItAiFFqHQIosLfTie8v/tCtZpBYkWodAiFFpkch+dimqmm2rK/5BokaxEu12VtYhEi1xJtFt++1iHRItQaBEKDWAFu7mO3e934Qpvn+fL5z7Pix4tQqFFKLSI3VxH2mFjMdexCaZzHR8v+8LfO/WXwVxH5yi0CIUWyXqFRa/e3uNWSLSIXaLr7Tdui0SLUGgRCi1i16M9O2w5Ei1iOtdRY+/BXMcmUGgRCg1gBbu5jvQVuf3T44oVzl8/l899nhc9WsTuynCwLsvpz6a5dkCiRezmOuphrmMTTOc66mGuo3Omu45hz1C+j/ZBokUWJ1p5QqIym1HPawqJFjHt0YNxjx5nPL0O9LwmHJBoEdPzOqb2G1P5XZdr5fkhJFqk4fM6SrJc4/HMI9EipnMdOZb2aOY6NsF0Hz11ryPNaXmPViLRAFYIm+uIPWdjEHU/Ov+eydT3MNfRDNNdR9RcR/49k/nvKUeiRcLmOnp978kYcx3Wguc6en3f6xhzHaZMdx1KOfdVypFokeC5jlY67FhUfqfqQ6JFwnp06/uN2ve1SbSIdK7Dk2Y+hESLhM11tL7fqD0fQqJFguc6Wtx7aOZDSLSI6b2OqPew+MyHkGgAK5ie19HfOvRoEQotQqFFGjivo491SLRIM+d1tL4OiRah0CIUWmRxoQ/Hk9VLiFGPp/bzItEiFFqEQos0OdehPz+kHIkWkZ7XEcXtKjEHiRZp4LyOPtYh0SIUWoRCi/wBHjKUuayeTBwAAAAASUVORK5CYII=';\n",
              "    "
            ]
          },
          "metadata": {}
        },
        {
          "output_type": "error",
          "ename": "KeyboardInterrupt",
          "evalue": "",
          "traceback": [
            "\u001b[0;31m---------------------------------------------------------------------------\u001b[0m",
            "\u001b[0;31mKeyboardInterrupt\u001b[0m                         Traceback (most recent call last)",
            "\u001b[0;32m<ipython-input-66-3974f6763292>\u001b[0m in \u001b[0;36m<cell line: 9>\u001b[0;34m()\u001b[0m\n\u001b[1;32m     14\u001b[0m     \u001b[0mprint\u001b[0m\u001b[0;34m(\u001b[0m\u001b[0;34mf'reward: {reward}'\u001b[0m\u001b[0;34m)\u001b[0m\u001b[0;34m\u001b[0m\u001b[0;34m\u001b[0m\u001b[0m\n\u001b[1;32m     15\u001b[0m     \u001b[0mpainter\u001b[0m\u001b[0;34m.\u001b[0m\u001b[0mdraw_step\u001b[0m\u001b[0;34m(\u001b[0m\u001b[0menv\u001b[0m\u001b[0;34m.\u001b[0m\u001b[0mrender_image\u001b[0m\u001b[0;34m(\u001b[0m\u001b[0;34m)\u001b[0m\u001b[0;34m)\u001b[0m\u001b[0;34m\u001b[0m\u001b[0;34m\u001b[0m\u001b[0m\n\u001b[0;32m---> 16\u001b[0;31m     \u001b[0mtime\u001b[0m\u001b[0;34m.\u001b[0m\u001b[0msleep\u001b[0m\u001b[0;34m(\u001b[0m\u001b[0;36m1\u001b[0m\u001b[0;34m)\u001b[0m\u001b[0;34m\u001b[0m\u001b[0;34m\u001b[0m\u001b[0m\n\u001b[0m\u001b[1;32m     17\u001b[0m \u001b[0;34m\u001b[0m\u001b[0m\n\u001b[1;32m     18\u001b[0m     \u001b[0;32mif\u001b[0m \u001b[0mterminated\u001b[0m\u001b[0;34m:\u001b[0m\u001b[0;34m\u001b[0m\u001b[0;34m\u001b[0m\u001b[0m\n",
            "\u001b[0;31mKeyboardInterrupt\u001b[0m: "
          ]
        }
      ]
    }
  ]
}